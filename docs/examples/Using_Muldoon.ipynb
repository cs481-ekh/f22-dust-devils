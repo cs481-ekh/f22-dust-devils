{
 "cells": [
  {
   "cell_type": "markdown",
   "id": "678b3a6c",
   "metadata": {},
   "source": [
    "# Using Muldoon"
   ]
  },
  {
   "cell_type": "markdown",
   "id": "c20ee303",
   "metadata": {},
   "source": [
    "Here are some examples for how to use some of the functionality of Muldoon."
   ]
  },
  {
   "cell_type": "code",
   "execution_count": 1,
   "id": "f5ab7251",
   "metadata": {},
   "outputs": [
    {
     "name": "stdout",
     "output_type": "stream",
     "text": [
      "Processing label: https://pds-atmospheres.nmsu.edu/PDS/data/PDS4/Mars2020/mars2020_meda/data_derived_env/sol_0000_0089/sol_0001/WE__0001___________DER_PS__________________P02.xml\n",
      "Downloading URL: https://pds-atmospheres.nmsu.edu/PDS/data/PDS4/Mars2020/mars2020_meda/data_derived_env/sol_0000_0089/sol_0001/WE__0001___________DER_PS__________________P02.xml ... done\n",
      "Found a Header structure: HEADER\n",
      "Found a Table_Delimited structure: TABLE\n",
      "0   Header           'HEADER'  PDS DSV 1\n",
      "1   Table_Delimited  'TABLE'   6 fields x 2330 records\n",
      "===========================================================================\n",
      "Downloading URL: https://pds-atmospheres.nmsu.edu/PDS/data/PDS4/Mars2020/mars2020_meda/data_derived_env/sol_0000_0089/sol_0001/WE__0001___________DER_PS__________________P02.CSV ... done\n",
      "[16.09203194 16.0923025  16.09257278 ... 16.96741806 16.96768861\n",
      " 16.96795889]\n"
     ]
    }
   ],
   "source": [
    "%matplotlib inline\n",
    "%config InlineBackend.figure_format='retina'\n",
    "%load_ext autoreload\n",
    "%autoreload 2\n",
    "\n",
    "import numpy as np\n",
    "import matplotlib.pyplot as plt\n",
    "\n",
    "from numpy.random import normal\n",
    "\n",
    "from scipy.stats import median_abs_deviation as mad\n",
    "\n",
    "from muldoon.met_timeseries import MetTimeseries, PressureTimeseries, TemperatureTimeseries\n",
    "from muldoon.utils import modified_lorentzian, fit_vortex_ps, write_out_plot_data\n",
    "from muldoon.read_data import *"
   ]
  },
  {
   "cell_type": "code",
   "execution_count": 2,
   "id": "691090a7",
   "metadata": {},
   "outputs": [
    {
     "ename": "TypeError",
     "evalue": "make_seconds_since_midnight() got an unexpected keyword argument 'subsecond_sampling'",
     "output_type": "error",
     "traceback": [
      "\u001b[0;31m---------------------------------------------------------------------------\u001b[0m",
      "\u001b[0;31mTypeError\u001b[0m                                 Traceback (most recent call last)",
      "\u001b[1;32m/root/481-SeniorDesign/f22-dust-devils/docs/examples/Using_Muldoon.ipynb Cell 4\u001b[0m in \u001b[0;36m<cell line: 4>\u001b[0;34m()\u001b[0m\n\u001b[1;32m      <a href='vscode-notebook-cell://wsl%2Bubuntu/root/481-SeniorDesign/f22-dust-devils/docs/examples/Using_Muldoon.ipynb#W3sdnNjb2RlLXJlbW90ZQ%3D%3D?line=0'>1</a>\u001b[0m \u001b[39m# Test that the sub-second sampling scheme works\u001b[39;00m\n\u001b[1;32m      <a href='vscode-notebook-cell://wsl%2Bubuntu/root/481-SeniorDesign/f22-dust-devils/docs/examples/Using_Muldoon.ipynb#W3sdnNjb2RlLXJlbW90ZQ%3D%3D?line=2'>3</a>\u001b[0m filename\u001b[39m=\u001b[39m\u001b[39m\"\u001b[39m\u001b[39mWE__0089___________CAL_ATS_________________P01.CSV\u001b[39m\u001b[39m\"\u001b[39m\n\u001b[0;32m----> <a href='vscode-notebook-cell://wsl%2Bubuntu/root/481-SeniorDesign/f22-dust-devils/docs/examples/Using_Muldoon.ipynb#W3sdnNjb2RlLXJlbW90ZQ%3D%3D?line=3'>4</a>\u001b[0m time \u001b[39m=\u001b[39m make_seconds_since_midnight(filename, subsecond_sampling\u001b[39m=\u001b[39;49m\u001b[39mTrue\u001b[39;49;00m)\n\u001b[1;32m      <a href='vscode-notebook-cell://wsl%2Bubuntu/root/481-SeniorDesign/f22-dust-devils/docs/examples/Using_Muldoon.ipynb#W3sdnNjb2RlLXJlbW90ZQ%3D%3D?line=4'>5</a>\u001b[0m plt\u001b[39m.\u001b[39mplot(time)\n\u001b[1;32m      <a href='vscode-notebook-cell://wsl%2Bubuntu/root/481-SeniorDesign/f22-dust-devils/docs/examples/Using_Muldoon.ipynb#W3sdnNjb2RlLXJlbW90ZQ%3D%3D?line=5'>6</a>\u001b[0m delta_time \u001b[39m=\u001b[39m time[\u001b[39m1\u001b[39m:] \u001b[39m-\u001b[39m time[:\u001b[39m-\u001b[39m\u001b[39m1\u001b[39m]\n",
      "\u001b[0;31mTypeError\u001b[0m: make_seconds_since_midnight() got an unexpected keyword argument 'subsecond_sampling'"
     ]
    }
   ],
   "source": [
    "# Test that the sub-second sampling scheme works\n",
    "\n",
    "filename=\"WE__0089___________CAL_ATS_________________P01.CSV\"\n",
    "time = make_seconds_since_midnight(filename, subsecond_sampling=True)\n",
    "plt.plot(time)\n",
    "delta_time = time[1:] - time[:-1]\n",
    "\n",
    "# No overlapping times, right?\n",
    "assert(len(delta_time[delta_time == 0]) == 0)"
   ]
  },
  {
   "cell_type": "code",
   "execution_count": null,
   "id": "e341b082",
   "metadata": {},
   "outputs": [],
   "source": [
    "fig = plt.figure(figsize=(10,10))\n",
    "ax = fig.add_subplot(111)\n",
    "ax2 = ax.twinx()\n",
    "\n",
    "# How to read in data\n",
    "\n",
    "# Temperature data\n",
    "filename=\"WE__0089___________CAL_ATS_________________P01.CSV\"\n",
    "temperature_time, temperature = read_Perseverance_ATS_data(filename, which_ATS=1)\n",
    "ax.scatter(temperature_time, temperature)\n",
    "\n",
    "# Pressure data\n",
    "filename=\"WE__0089___________DER_PS__________________P01.CSV\"\n",
    "pressure_time, pressure = read_Perseverance_PS_data(filename)\n",
    "ax2.scatter(pressure_time, pressure, color='orange')"
   ]
  },
  {
   "cell_type": "code",
   "execution_count": null,
   "id": "75940e70",
   "metadata": {},
   "outputs": [],
   "source": [
    "# Create time-series\n",
    "time = np.linspace(-10, 10, 1000)\n",
    "baseline = 0.\n",
    "slope = 1.\n",
    "t0 = 0.\n",
    "DeltaP = 1.\n",
    "Gamma = 0.5\n",
    "\n",
    "right_answer = np.array([baseline, slope, t0, DeltaP, Gamma])\n",
    "\n",
    "profile = modified_lorentzian(time, baseline, slope, t0, DeltaP, Gamma) + normal(scale=slope/20., size=len(time))\n",
    "mt = PressureTimeseries(time, profile)"
   ]
  },
  {
   "cell_type": "code",
   "execution_count": null,
   "id": "c9369a1b",
   "metadata": {},
   "outputs": [],
   "source": [
    "# Detrend\n",
    "window_size = Gamma\n",
    "detrended_pressure = mt.detrend_timeseries_boxcar(window_size)\n",
    "print(np.std(mt.detrended_data))\n",
    "print(np.isclose(np.std(mt.detrended_data), 0.1, atol=0.1))\n",
    "\n",
    "plt.scatter(mt.time, mt.data, marker='.')\n",
    "plt.scatter(mt.time, mt.detrended_data, marker='.')"
   ]
  },
  {
   "cell_type": "code",
   "execution_count": null,
   "id": "27c01f4d",
   "metadata": {},
   "outputs": [],
   "source": [
    "# Test time-series write-out\n",
    "write_str = write_out_plot_data(mt.time, mt.data, yerr=np.std(mt.data)*np.ones_like(mt.data),\n",
    "                                x_label=\"Time\", y_label=\"Pressure\", test_mode=True)"
   ]
  },
  {
   "cell_type": "code",
   "execution_count": null,
   "id": "3b641ccb",
   "metadata": {},
   "outputs": [],
   "source": [
    "# plt.plot(mt.time, profile)\n",
    "conv = mt.apply_lorentzian_matched_filter(2.*mt.sampling, 1./np.pi)\n",
    "mx_ind = np.argmax(mt.convolution)\n",
    "\n",
    "print(mt.convolution[mx_ind], np.abs(mt.time[mx_ind]), 2.*mt.sampling)\n",
    "# plt.plot(mt.time, mt.convolution)\n",
    "# plt.plot(mt.time, profile)\n",
    "plt.plot(mt.convolution)\n",
    "# Make sure convolution returns a strong peak at the right time\n",
    "print((np.abs(mt.time[mx_ind])))"
   ]
  },
  {
   "cell_type": "code",
   "execution_count": null,
   "id": "be00a724",
   "metadata": {},
   "outputs": [],
   "source": [
    "# Test find_vortices - Set the threshold very low to make sure the right peak is actually at the top of the list\n",
    "vortices = mt.find_vortices(detection_threshold=2)\n",
    "plt.plot(mt.convolution)\n",
    "plt.axvline(mt.peak_indices[0] - 3.*mt.peak_widths[0])\n",
    "plt.axvline(mt.peak_indices[0] + 3.*mt.peak_widths[0])\n",
    "\n",
    "# Make sure the max peak in the convolution is the right one\n",
    "assert(mt.time[mt.peak_indices[0]] < Gamma)"
   ]
  },
  {
   "cell_type": "code",
   "execution_count": null,
   "id": "90d34af1",
   "metadata": {},
   "outputs": [],
   "source": [
    "# Test find_vortices\n",
    "vortices = mt.find_vortices(detection_threshold=7)\n",
    "plt.plot(mt.time, mt.data)\n",
    "plt.axvline(mt.time[mt.peak_indices[0] - 3*int(mt.peak_widths[0])])\n",
    "plt.axvline(mt.time[mt.peak_indices[0] + 3*int(mt.peak_widths[0])])"
   ]
  },
  {
   "cell_type": "code",
   "execution_count": null,
   "id": "d18762c2",
   "metadata": {},
   "outputs": [],
   "source": [
    "plt.scatter(vortices[0][\"time\"], vortices[0][\"data\"])\n",
    "\n",
    "# Test vortex fit\n",
    "old_popt, old_unc = fit_vortex(vortices[0], [0., 1., 0., 1., 0.01], \n",
    "                          [[-1, -1, np.min(vortices[0][\"time\"]), 0, 0],\n",
    "                           [1, 1, np.max(vortices[0][\"time\"]), 2, 1]], sigma=vortices[0][\"scatter\"])\n",
    "assert(np.max(np.abs(old_popt - right_answer)/old_unc) < 3.)\n",
    "\n",
    "plt.plot(vortices[0][\"time\"], modified_lorentzian(vortices[0][\"time\"], *old_popt))"
   ]
  },
  {
   "cell_type": "code",
   "execution_count": null,
   "id": "f0b274a9",
   "metadata": {},
   "outputs": [],
   "source": [
    "init_params = mt._determine_init_params(vortices[0])\n",
    "bounds = mt._determine_bounds(vortices[0], init_params)\n",
    "popt, unc = fit_vortex(vortices[0], init_params, bounds, sigma=vortices[0][\"scatter\"])\n",
    "assert(np.max(np.abs(popt - right_answer)/unc) < 3.)\n",
    "\n",
    "print(np.max(np.abs(popt - right_answer)/unc))"
   ]
  },
  {
   "cell_type": "code",
   "execution_count": null,
   "id": "8d18d6c0",
   "metadata": {},
   "outputs": [],
   "source": [
    "# Test fit all vortices\n",
    "\n",
    "# Create time-series\n",
    "time = np.linspace(-10, 10, 1000)\n",
    "baseline = 0.\n",
    "slope = 1.\n",
    "t0 = 0.\n",
    "DeltaP = 1.\n",
    "Gamma = 0.5\n",
    "\n",
    "right_answer = np.array([baseline, slope, t0, DeltaP, Gamma])\n",
    "\n",
    "profile = modified_lorentzian(time, baseline, slope, t0, DeltaP, Gamma) + normal(scale=slope/20., size=len(time))\n",
    "mt = PressureTimeseries(time, profile)\n",
    "window_size = Gamma\n",
    "detrended_pressure = mt.detrend_timeseries_boxcar(window_size)\n",
    "\n",
    "conv = mt.apply_lorentzian_matched_filter(2.*mt.sampling, 1./np.pi)\n",
    "vortices = mt.find_vortices(detection_threshold=7)\n",
    "\n",
    "popts, uncs = mt.fit_all_vortices()\n",
    "print(np.max(np.abs(popts[0] - right_answer)/uncs[0]))\n",
    "assert(np.max(np.abs(popts[0] - right_answer)/uncs[0]) < 5.)"
   ]
  },
  {
   "cell_type": "code",
   "execution_count": null,
   "id": "9bf6060c",
   "metadata": {
    "scrolled": true
   },
   "outputs": [],
   "source": [
    "# Make plot showing how the data are conditioned and write out the data in each panel\n",
    "mt.make_conditioned_data_figure(write_filename=\"./test_\");"
   ]
  },
  {
   "cell_type": "code",
   "execution_count": null,
   "id": "6e4ac821",
   "metadata": {},
   "outputs": [],
   "source": [
    "# Create time-series\n",
    "time = np.linspace(-10, 10, 1000)\n",
    "baseline = 0.\n",
    "slope = 1.\n",
    "t0 = 0.\n",
    "DeltaP = 1.\n",
    "Gamma = 0.5\n",
    "\n",
    "DeltaT = -10.\n",
    "\n",
    "right_answer = np.array([baseline, slope, t0, DeltaP, Gamma])\n",
    "temp_right_answer = np.array([baseline, slope, t0, DeltaT, Gamma])\n",
    "\n",
    "profile = modified_lorentzian(time, baseline, slope, t0, DeltaP, Gamma) + normal(scale=slope/20., size=len(time))\n",
    "mt = PressureTimeseries(time, profile)\n",
    "\n",
    "# Add in some nasty sine wave action\n",
    "red_noise_period = Gamma\n",
    "temp_profile = modified_lorentzian(time, *temp_right_answer) +\\\n",
    "    normal(scale=slope, size=len(time)) + DeltaT/10.*np.sin(2*np.pi/red_noise_period*time)\n",
    "tt = TemperatureTimeseries(time, temp_profile, \n",
    "                           popts=[right_answer], \n",
    "                           uncs=[np.array([0, 0, 0, 0, 0])])\n",
    "plt.scatter(tt.time, tt.data)\n",
    "\n",
    "plt.axvline(tt.popts[0][2])"
   ]
  },
  {
   "cell_type": "code",
   "execution_count": null,
   "id": "1a5c5d60",
   "metadata": {},
   "outputs": [],
   "source": [
    "tt.retrieve_vortices()\n",
    "plt.scatter(tt.vortices[0][\"time\"], tt.vortices[0][\"data\"])\n",
    "print(len(tt.vortices[0][\"time\"]))"
   ]
  },
  {
   "cell_type": "code",
   "execution_count": null,
   "id": "0f76808d",
   "metadata": {},
   "outputs": [],
   "source": [
    "# Fit vortex using normal linear regression\n",
    "# baseline, slope, t0, DeltaT, Gamma\n",
    "\n",
    "temp_baseline = np.mean(tt.vortices[0][\"data\"])\n",
    "temp_avg_slope = (tt.vortices[0][\"data\"][-1] - tt.vortices[0][\"data\"][0])/\\\n",
    "    (tt.vortices[0][\"time\"][-1] - tt.vortices[0][\"time\"][0])\n",
    "max_excursion = -np.abs(np.max(tt.vortices[0][\"data\"]) - np.min(tt.vortices[0][\"data\"]))\n",
    "\n",
    "sigma = mad(tt.vortices[0][\"data\"])\n",
    "\n",
    "init_params = [temp_baseline, temp_avg_slope, t0, max_excursion, Gamma]\n",
    "bounds = [[np.min(tt.vortices[0][\"data\"]), -3.*np.abs(temp_avg_slope), np.min(tt.vortices[0][\"time\"]), \n",
    "           -3.*np.abs(max_excursion), 0.], \n",
    "          [np.max(tt.vortices[0][\"data\"]),  3.*np.abs(temp_avg_slope), np.max(tt.vortices[0][\"time\"]), \n",
    "            0., 3.*Gamma]]\n",
    "\n",
    "popt, unc = fit_vortex(tt.vortices[0], init_params, bounds)\n",
    "print(popt)\n",
    "print(unc)\n",
    "print(temp_right_answer)\n",
    "\n",
    "plt.scatter(tt.vortices[0][\"time\"], tt.vortices[0][\"data\"])\n",
    "plt.plot(tt.vortices[0][\"time\"], modified_lorentzian(tt.vortices[0][\"time\"], *popt), lw=3, color='orange')"
   ]
  },
  {
   "cell_type": "code",
   "execution_count": null,
   "id": "cd042558",
   "metadata": {},
   "outputs": [],
   "source": [
    "# Fit vortex using Gaussian processes - https://george.readthedocs.io/en/latest/tutorials/model/"
   ]
  },
  {
   "cell_type": "markdown",
   "id": "45e7c1a9",
   "metadata": {},
   "source": [
    "---\n",
    "Using the TemperatureTimeseries Class"
   ]
  },
  {
   "cell_type": "code",
   "execution_count": null,
   "id": "39f5b9ab",
   "metadata": {},
   "outputs": [],
   "source": [
    "# Temperature data\n",
    "filename=\"WE__0089___________CAL_ATS_________________P01.CSV\""
   ]
  },
  {
   "cell_type": "code",
   "execution_count": null,
   "id": "92010f15",
   "metadata": {},
   "outputs": [],
   "source": [
    "time, temperature = read_Perseverance_ATS_data(filename, which_ATS=1)\n",
    "tt = TemperatureTimeseries(time, temperature)\n",
    "\n",
    "plt.scatter(tt.time, tt.data, marker='.')"
   ]
  },
  {
   "cell_type": "code",
   "execution_count": null,
   "id": "dbc3be08",
   "metadata": {},
   "outputs": [],
   "source": [
    "# Detrend\n",
    "window_size = 1. # 1 hour\n",
    "detrended_temperature = tt.detrend_timeseries_boxcar(window_size)\n",
    "plt.scatter(tt.time, tt.detrended_data, marker='.')"
   ]
  }
 ],
 "metadata": {
  "kernelspec": {
   "display_name": "Python 3.10.4 64-bit",
   "language": "python",
   "name": "python3"
  },
  "language_info": {
   "codemirror_mode": {
    "name": "ipython",
    "version": 3
   },
   "file_extension": ".py",
   "mimetype": "text/x-python",
   "name": "python",
   "nbconvert_exporter": "python",
   "pygments_lexer": "ipython3",
   "version": "3.10.4"
  },
  "vscode": {
   "interpreter": {
    "hash": "916dbcbb3f70747c44a77c7bcd40155683ae19c65e1c03b4aa3499c5328201f1"
   }
  }
 },
 "nbformat": 4,
 "nbformat_minor": 5
}
